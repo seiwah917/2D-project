{
 "cells": [
  {
   "cell_type": "code",
   "execution_count": 38,
   "id": "2fdb2ba9",
   "metadata": {},
   "outputs": [
    {
     "name": "stdout",
     "output_type": "stream",
     "text": [
      "\u001b[1m1×11 DataFrame\u001b[0m\n",
      "\u001b[1m Row \u001b[0m│\u001b[1m ci      \u001b[0m\u001b[1m cr      \u001b[0m\u001b[1m co      \u001b[0m\u001b[1m cu      \u001b[0m\u001b[1m cs      \u001b[0m\u001b[1m W_init \u001b[0m\u001b[1m I_init \u001b[0m\u001b[1m K       \u001b[0m\u001b[1m T     \u001b[0m\u001b[1m cb      \u001b[0m\u001b[1m B_init \u001b[0m\n",
      "     │\u001b[90m Float64 \u001b[0m\u001b[90m Float64 \u001b[0m\u001b[90m Float64 \u001b[0m\u001b[90m Float64 \u001b[0m\u001b[90m Float64 \u001b[0m\u001b[90m Int64  \u001b[0m\u001b[90m Int64  \u001b[0m\u001b[90m Float64 \u001b[0m\u001b[90m Int64 \u001b[0m\u001b[90m Float64 \u001b[0m\u001b[90m Int64  \u001b[0m\n",
      "─────┼──────────────────────────────────────────────────────────────────────────────────────────────\n",
      "   1 │ 1213.22  438.237  1555.37  587.519  179.623     685     612  33.4792     36  65.7356     754\n",
      "\u001b[1m12×10 DataFrame\u001b[0m\n",
      "\u001b[1m Row \u001b[0m│\u001b[1m x1    \u001b[0m\u001b[1m x2    \u001b[0m\u001b[1m x3    \u001b[0m\u001b[1m x4    \u001b[0m\u001b[1m x5    \u001b[0m\u001b[1m x6    \u001b[0m\u001b[1m x7    \u001b[0m\u001b[1m x8    \u001b[0m\u001b[1m x9    \u001b[0m\u001b[1m x10   \u001b[0m\n",
      "     │\u001b[90m Int64 \u001b[0m\u001b[90m Int64 \u001b[0m\u001b[90m Int64 \u001b[0m\u001b[90m Int64 \u001b[0m\u001b[90m Int64 \u001b[0m\u001b[90m Int64 \u001b[0m\u001b[90m Int64 \u001b[0m\u001b[90m Int64 \u001b[0m\u001b[90m Int64 \u001b[0m\u001b[90m Int64 \u001b[0m\n",
      "─────┼──────────────────────────────────────────────────────────────────────\n",
      "   1 │   598    952   1273    780    627    289    311   1856   1594      1\n",
      "   2 │  1690    502    181   1662    287   1574    953   1002   1759   1532\n",
      "   3 │   820   1819   1865   1680    420   1503    574    299     82   1391\n",
      "   4 │  1956    714   1295    434   1241   1925   1641    917   1479   1861\n",
      "   5 │  1039   1131      8    512    701   1825    489    198    958    710\n",
      "   6 │   186   1109   1545   1859    288     23    941   1042     90    155\n",
      "   7 │  1195    235    372    280   1987   1013    581    577   1413   1451\n",
      "   8 │  1818    176    682   1552    359    235    949   1419   1989    854\n",
      "   9 │   693     10    540    469   1691   1223   1019   1778     66   1011\n",
      "  10 │  1816   1083    597     31     33   1233    611   1288   1880   1340\n",
      "  11 │   290    999    520   1775   1679    700    569    910    197    740\n",
      "  12 │   989     91   1301    326   1580    661   1046   1482    345    910\n"
     ]
    }
   ],
   "source": [
    "using CSV\n",
    "using DataFrames\n",
    "using Distributions\n",
    "\n",
    "# Define the distributions\n",
    "d = Uniform(0, 2000)\n",
    "d1 = Uniform(0, 100)\n",
    "i = 10  # Number of products\n",
    "t = 12  # Number of time periods\n",
    "\n",
    "# Generate random coefficients\n",
    "ci = rand(d)\n",
    "cr = rand(d)\n",
    "co = rand(d)\n",
    "cu = rand(d)\n",
    "cs = rand(d)\n",
    "\n",
    "# Initialize W[0] and I[0]\n",
    "W_init = round(Int, rand(d))\n",
    "I_init = round(Int, rand(d))\n",
    "B_init = round(Int, rand(d))\n",
    "\n",
    "# Define a parameter K\n",
    "K = rand(d1)\n",
    "\n",
    "# Define constants\n",
    "cf = 173490\n",
    "ch = 2406.6\n",
    "cb = 0.15 * cr\n",
    "T = 12 * rand(2:5)\n",
    "\n",
    "# Generate an array of random values for D\n",
    "D = [round(Int, rand(d)) for _ in 1:t, _ in 1:i ]\n",
    "\n",
    "# Create a DataFrame for the demand D with columns as time periods and rows as products\n",
    "df_demand = DataFrame(D, :auto)\n",
    "\n",
    "# Create a DataFrame for the other parameters\n",
    "df_params = DataFrame(\n",
    "    ci = ci,\n",
    "    cr = cr,\n",
    "    co = co,\n",
    "    cu = cu,\n",
    "    cs = cs,\n",
    "    W_init = W_init,\n",
    "    I_init = I_init,\n",
    "    K = K,\n",
    "    T = T,\n",
    "    cb = cb,\n",
    "    B_init = B_init\n",
    ")\n",
    "\n",
    "# Save the DataFrame to a CSV file\n",
    "CSV.write(\"data8.csv\", df_params)\n",
    "CSV.write(\"demand_data8.csv\", df_demand)\n",
    "\n",
    "# Print the DataFrame to verify the format\n",
    "println(df_params)\n",
    "println(df_demand)\n"
   ]
  },
  {
   "cell_type": "code",
   "execution_count": 36,
   "id": "1ff25b66",
   "metadata": {},
   "outputs": [],
   "source": [
    "using JuMP\n",
    "using Gurobi\n",
    "using Distributions\n",
    "using CSV\n",
    "using DataFrames\n",
    "\n",
    "# Load the CSV file into a DataFrame\n",
    "demand_data = CSV.read(raw\"C:\\Users\\Admin\\Downloads\\demand_data7.csv\", DataFrame)\n",
    "para_data = CSV.read(raw\"C:\\Users\\Admin\\Downloads\\data7.csv\", DataFrame)\n",
    "\n",
    "# Extract the relevant data from the DataFrame\n",
    "#for i in 1:n\n",
    "    #D[i] = data.D[i]\n",
    "#end\n",
    "ci = para_data.ci[1]\n",
    "cr = para_data.cr[1]\n",
    "co = para_data.co[1]\n",
    "cu = para_data.cu[1]\n",
    "cs = para_data.cs[1]\n",
    "cb = para_data.cb[1]\n",
    "W_init = para_data.W_init[1]\n",
    "I_init = para_data.I_init[1]\n",
    "K = para_data.K[1]\n",
    "T = para_data.T[1]\n",
    "B_init = para_data.B_init[1]\n",
    "# Define the distributions\n",
    "#d = Uniform(0, 100000)\n",
    "#d1 = Uniform(0, 100)\n",
    "\n",
    "# Extract the demand data and convert it to a 2D array (transposed)\n",
    "n_products = size(demand_data, 2) \n",
    "n_periods = size(demand_data, 1) # Assuming the first column is 'Product'\n",
    "D = Array{Float64}(undef, n_periods, n_products)\n",
    "\n",
    "for t in 1:12\n",
    "    for i in 1:10\n",
    "        D[t, i] = demand_data[t, i]  # Adjust for 1-based indexing in Julia\n",
    "    end\n",
    "end"
   ]
  },
  {
   "cell_type": "code",
   "execution_count": 15,
   "id": "ec39ef7f",
   "metadata": {},
   "outputs": [
    {
     "data": {
      "text/plain": [
       "13712.0"
      ]
     },
     "execution_count": 15,
     "metadata": {},
     "output_type": "execute_result"
    }
   ],
   "source": [
    "D[1,2]"
   ]
  },
  {
   "cell_type": "code",
   "execution_count": 16,
   "id": "4e9f0b8a",
   "metadata": {},
   "outputs": [
    {
     "data": {
      "text/plain": [
       "10"
      ]
     },
     "execution_count": 16,
     "metadata": {},
     "output_type": "execute_result"
    }
   ],
   "source": [
    "n_products"
   ]
  },
  {
   "cell_type": "code",
   "execution_count": 20,
   "id": "a6db0f54",
   "metadata": {},
   "outputs": [
    {
     "data": {
      "text/plain": [
       "12"
      ]
     },
     "execution_count": 20,
     "metadata": {},
     "output_type": "execute_result"
    }
   ],
   "source": [
    "n_periods = size(demand_data, 1) "
   ]
  },
  {
   "cell_type": "code",
   "execution_count": 26,
   "id": "d1b1d334",
   "metadata": {},
   "outputs": [
    {
     "data": {
      "text/plain": [
       "12"
      ]
     },
     "execution_count": 26,
     "metadata": {},
     "output_type": "execute_result"
    }
   ],
   "source": [
    "n_periods"
   ]
  },
  {
   "cell_type": "code",
   "execution_count": 31,
   "id": "36f3e3f1",
   "metadata": {},
   "outputs": [],
   "source": []
  },
  {
   "cell_type": "code",
   "execution_count": 35,
   "id": "53514eeb",
   "metadata": {},
   "outputs": [
    {
     "data": {
      "text/plain": [
       "10682.0"
      ]
     },
     "execution_count": 35,
     "metadata": {},
     "output_type": "execute_result"
    }
   ],
   "source": [
    "m = Model(Gurobi.Optimizer)\n",
    "n = T\n",
    "nt = 20\n",
    "k_max = 10\n",
    "j_max = 10\n",
    "\n",
    "# Define the variables\n",
    "@variable(m, W[0:n, 1:k_max, 1:j_max] >= 0, Int)\n",
    "@variable(m, H[1:n, 1:k_max, 1:j_max] >= 0, Int)\n",
    "@variable(m, F[1:n, 1:k_max, 1:j_max] >= 0, Int)\n",
    "@variable(m, I[0:n, 1:k_max, 1:j_max] >= 0)\n",
    "@variable(m, P[1:n, 1:k_max, 1:j_max] >= 0)\n",
    "@variable(m, O[1:n, 1:k_max, 1:j_max] >= 0)\n",
    "@variable(m, U[1:n, 1:k_max, 1:j_max] >= 0)\n",
    "@variable(m, S[1:n, 1:k_max, 1:j_max] >= 0)\n",
    "@variable(m, B[0:n, 1:k_max, 1:j_max] >= 0, Int)\n",
    "\n",
    "# Add initial constraints for W[0] and I[0]\n",
    "for k in 1:k_max\n",
    "    for j in 1:j_max\n",
    "        @constraint(m, W[0, k, j] == W_init)\n",
    "        @constraint(m, I[0, k, j] == I_init)\n",
    "        @constraint(m, B[0, k, j] == B_init)\n",
    "    end\n",
    "end\n",
    "\n",
    "# Define the constraints\n",
    "for i in 1:n\n",
    "    for k in 1:k_max\n",
    "        for j in 1:j_max\n",
    "            @constraint(m, W[i, k, j] == W[i-1, k, j] + H[i, k, j] - F[i, k, j])\n",
    "            @constraint(m, P[i, k, j] == K * nt * W[i, k, j] + O[i, k, j] - U[i, k, j])\n",
    "            @constraint(m, I[i, k, j] - B[i, k, j] == I[i-1, k, j] - B[i-1, k, j] + P[i, k, j] + S[i, k, j] - D[i])\n",
    "            @constraint(m, H[i, k, j] <= 0.1 * W[i, k, j])                     \n",
    "            @constraint(m, F[i, k, j] <= 0.1 * W[i, k, j])\n",
    "        end\n",
    "    end\n",
    "end\n",
    "\n",
    "# Define the objective function\n",
    "@objective(m, Min,\n",
    "    ch * sum(H[i, k, j] for i in 1:n, k in 1:k_max, j in 1:j_max) +\n",
    "    cf * sum(F[i, k, j] for i in 1:n, k in 1:k_max, j in 1:j_max) +\n",
    "    ci * sum(I[i, k, j] for i in 1:n, k in 1:k_max, j in 1:j_max) +\n",
    "    co * sum(O[i, k, j] for i in 1:n, k in 1:k_max, j in 1:j_max) +\n",
    "    cu * sum(U[i, k, j] for i in 1:n, k in 1:k_max, j in 1:j_max) +\n",
    "    cs * sum(S[i, k, j] for i in 1:n, k in 1:k_max, j in 1:j_max) +\n",
    "    cr * sum(P[i, k, j] for i in 1:n, k in 1:k_max, j in 1:j_max) +\n",
    "    cb * sum(B[i, k, j] for i in 1:n, k in 1:k_max, j in 1:j_max)\n",
    ")\n",
    "\n",
    "# Optimize the model\n",
    "optimize!(m)\n",
    "\n",
    "# Print the results\n",
    "for i in 1:n\n",
    "    for k in 1:k_max\n",
    "        for j in 1:j_max\n",
    "            println(\"W[$i][$k][$j] = \", value(W[i, k, j]))\n",
    "            println(\"H[$i][$k][$j] = \", value(H[i, k, j]))\n",
    "            println(\"F[$i][$k][$j] = \", value(F[i, k, j]))\n",
    "            println(\"I[$i][$k][$j] = \", value(I[i, k, j]))\n",
    "            println(\"P[$i][$k][$j] = \", value(P[i, k, j]))\n",
    "            println(\"O[$i][$k][$j] = \", value(O[i, k, j]))\n",
    "            println(\"U[$i][$k][$j] = \", value(U[i, k, j]))\n",
    "            println(\"S[$i][$k][$j] = \", value(S[i, k, j]))\n",
    "            println(\"B[$i][$k][$j] = \", value(B[i, k, j]))\n",
    "        end\n",
    "    end\n",
    "end"
   ]
  }
 ],
 "metadata": {
  "kernelspec": {
   "display_name": "Julia 1.10.0",
   "language": "julia",
   "name": "julia-1.10"
  },
  "language_info": {
   "file_extension": ".jl",
   "mimetype": "application/julia",
   "name": "julia",
   "version": "1.10.0"
  }
 },
 "nbformat": 4,
 "nbformat_minor": 5
}
